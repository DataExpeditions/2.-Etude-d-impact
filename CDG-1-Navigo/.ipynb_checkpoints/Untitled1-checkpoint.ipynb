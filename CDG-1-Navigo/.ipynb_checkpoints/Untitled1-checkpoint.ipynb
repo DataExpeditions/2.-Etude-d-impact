{
 "cells": [
  {
   "cell_type": "code",
   "execution_count": null,
   "metadata": {
    "collapsed": true
   },
   "outputs": [],
   "source": [
    "import pandas as pd\n",
    "import numpy as np\n",
    "import matplotlib.pyplot as plt\n",
    "%matplotlib inline\n",
    "raw = pd.read_csv('Validations-CDG1-Septembre-2.csv',sep='\\t',low_memory=False)\n",
    "raw.head(3)"
   ]
  },
  {
   "cell_type": "code",
   "execution_count": null,
   "metadata": {
    "collapsed": true
   },
   "outputs": [],
   "source": [
    "def extractDay(row):\n",
    "    return int(row['TRSC_DAT_VAL'][:2])\n",
    "def extractYear(row):\n",
    "    if(row['TRSC_DAT_VAL'][5:7]!='60'):\n",
    "        return 2000+int(row['TRSC_DAT_VAL'][5:7])\n",
    "\n",
    "raw['day']=raw.apply(extractDay,axis=1)\n",
    "raw['year']=raw.apply(extractYear,axis=1)"
   ]
  },
  {
   "cell_type": "code",
   "execution_count": null,
   "metadata": {
    "collapsed": true
   },
   "outputs": [],
   "source": [
    "table = pd.pivot_table(raw, values='TRSC_NB_TRSC', index=['year'],columns=['TEVA_IDE_TEC_VAL'], aggfunc=np.sum)"
   ]
  },
  {
   "cell_type": "code",
   "execution_count": null,
   "metadata": {
    "collapsed": true
   },
   "outputs": [],
   "source": [
    "plt.close()\n",
    "plt.style.use('ggplot')\n",
    "plt.figure();\n",
    "table.plot(kind='bar')\n",
    "#plt.hist(x=range(1,31),y=[x for x in range(1,31)])\n",
    "plt.xlabel('annee')\n",
    "plt.ylabel('validations')\n",
    "\n",
    "# Tweak spacing to prevent clipping of ylabel\n",
    "plt.subplots_adjust(left=0.15)\n",
    "plt.legend([\"Tickets\",\"Navigo\"],bbox_to_anchor=(1.05, 1), loc=2, borderaxespad=0.)\n",
    "plt.show()"
   ]
  }
 ],
 "metadata": {
  "kernelspec": {
   "display_name": "Python 2",
   "language": "python",
   "name": "python2"
  },
  "language_info": {
   "codemirror_mode": {
    "name": "ipython",
    "version": 2
   },
   "file_extension": ".py",
   "mimetype": "text/x-python",
   "name": "python",
   "nbconvert_exporter": "python",
   "pygments_lexer": "ipython2",
   "version": "2.7.11"
  }
 },
 "nbformat": 4,
 "nbformat_minor": 0
}
