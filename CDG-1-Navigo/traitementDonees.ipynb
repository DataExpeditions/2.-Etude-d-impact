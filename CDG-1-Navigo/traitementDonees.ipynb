{
 "cells": [
  {
   "cell_type": "code",
   "execution_count": 1,
   "metadata": {
    "collapsed": false
   },
   "outputs": [
    {
     "data": {
      "text/html": [
       "<div>\n",
       "<table border=\"1\" class=\"dataframe\">\n",
       "  <thead>\n",
       "    <tr style=\"text-align: right;\">\n",
       "      <th></th>\n",
       "      <th>TRSC_IDE_CAR</th>\n",
       "      <th>TRSC_DAT_VAL</th>\n",
       "      <th>TRSC_NB_TRSC</th>\n",
       "      <th>GARE_IDE_GAR</th>\n",
       "      <th>LICA_IDE_LIG_CAB</th>\n",
       "      <th>EQVA_IDE_EQT_VAL</th>\n",
       "      <th>FAEQ_IDE_FAM_EQT</th>\n",
       "      <th>IDE_SEN_PAS_UNI</th>\n",
       "      <th>SEFN_IDE_SEN_FON_NOR</th>\n",
       "      <th>TEVA_IDE_TEC_VAL</th>\n",
       "      <th>RPT_IDE_PDT_TAR_UNIF</th>\n",
       "      <th>VALI_IDE_VAL</th>\n",
       "      <th>TRSC_NB_CONT</th>\n",
       "      <th>GARE_IDE_GAR_ORI</th>\n",
       "      <th>GARE_IDE_GAR_DES</th>\n",
       "    </tr>\n",
       "  </thead>\n",
       "  <tbody>\n",
       "    <tr>\n",
       "      <th>0</th>\n",
       "      <td>NaN</td>\n",
       "      <td>01SEP15:08:59:00</td>\n",
       "      <td>1</td>\n",
       "      <td>271460</td>\n",
       "      <td>1</td>\n",
       "      <td>9</td>\n",
       "      <td>20</td>\n",
       "      <td>4</td>\n",
       "      <td>0</td>\n",
       "      <td>0</td>\n",
       "      <td>NaN</td>\n",
       "      <td>0</td>\n",
       "      <td>1</td>\n",
       "      <td>NaN</td>\n",
       "      <td>NaN</td>\n",
       "    </tr>\n",
       "    <tr>\n",
       "      <th>1</th>\n",
       "      <td>NaN</td>\n",
       "      <td>01SEP15:08:59:00</td>\n",
       "      <td>1</td>\n",
       "      <td>271460</td>\n",
       "      <td>1</td>\n",
       "      <td>9</td>\n",
       "      <td>20</td>\n",
       "      <td>4</td>\n",
       "      <td>0</td>\n",
       "      <td>0</td>\n",
       "      <td>NaN</td>\n",
       "      <td>0</td>\n",
       "      <td>1</td>\n",
       "      <td>NaN</td>\n",
       "      <td>NaN</td>\n",
       "    </tr>\n",
       "    <tr>\n",
       "      <th>2</th>\n",
       "      <td>NaN</td>\n",
       "      <td>02SEP15:18:17:00</td>\n",
       "      <td>1</td>\n",
       "      <td>271460</td>\n",
       "      <td>1</td>\n",
       "      <td>9</td>\n",
       "      <td>20</td>\n",
       "      <td>4</td>\n",
       "      <td>0</td>\n",
       "      <td>0</td>\n",
       "      <td>NaN</td>\n",
       "      <td>0</td>\n",
       "      <td>1</td>\n",
       "      <td>NaN</td>\n",
       "      <td>NaN</td>\n",
       "    </tr>\n",
       "  </tbody>\n",
       "</table>\n",
       "</div>"
      ],
      "text/plain": [
       "  TRSC_IDE_CAR      TRSC_DAT_VAL  TRSC_NB_TRSC  GARE_IDE_GAR  \\\n",
       "0          NaN  01SEP15:08:59:00             1        271460   \n",
       "1          NaN  01SEP15:08:59:00             1        271460   \n",
       "2          NaN  02SEP15:18:17:00             1        271460   \n",
       "\n",
       "   LICA_IDE_LIG_CAB  EQVA_IDE_EQT_VAL  FAEQ_IDE_FAM_EQT  IDE_SEN_PAS_UNI  \\\n",
       "0                 1                 9                20                4   \n",
       "1                 1                 9                20                4   \n",
       "2                 1                 9                20                4   \n",
       "\n",
       "   SEFN_IDE_SEN_FON_NOR  TEVA_IDE_TEC_VAL  RPT_IDE_PDT_TAR_UNIF  VALI_IDE_VAL  \\\n",
       "0                     0                 0                   NaN             0   \n",
       "1                     0                 0                   NaN             0   \n",
       "2                     0                 0                   NaN             0   \n",
       "\n",
       "   TRSC_NB_CONT  GARE_IDE_GAR_ORI  GARE_IDE_GAR_DES  \n",
       "0             1               NaN               NaN  \n",
       "1             1               NaN               NaN  \n",
       "2             1               NaN               NaN  "
      ]
     },
     "execution_count": 1,
     "metadata": {},
     "output_type": "execute_result"
    }
   ],
   "source": [
    "import pandas as pd\n",
    "import numpy as np\n",
    "import matplotlib.pyplot as plt\n",
    "%matplotlib inline\n",
    "raw = pd.read_csv('Validations-CDG1-Septembre-2.csv',sep='\\t',low_memory=False)\n",
    "raw.head(3)"
   ]
  },
  {
   "cell_type": "code",
   "execution_count": 2,
   "metadata": {
    "collapsed": true
   },
   "outputs": [],
   "source": [
    "def extractDay(row):\n",
    "    return int(row['TRSC_DAT_VAL'][:2])\n",
    "def extractYear(row):\n",
    "    if(row['TRSC_DAT_VAL'][5:7]!='60'):\n",
    "        return 2000+int(row['TRSC_DAT_VAL'][5:7])\n",
    "\n",
    "raw['day']=raw.apply(extractDay,axis=1)\n",
    "raw['year']=raw.apply(extractYear,axis=1)"
   ]
  },
  {
   "cell_type": "code",
   "execution_count": 3,
   "metadata": {
    "collapsed": true
   },
   "outputs": [],
   "source": [
    "table = pd.pivot_table(raw, values='TRSC_NB_TRSC', index=['year'],columns=['TEVA_IDE_TEC_VAL'], aggfunc=np.sum)"
   ]
  },
  {
   "cell_type": "code",
   "execution_count": 4,
   "metadata": {
    "collapsed": false
   },
   "outputs": [
    {
     "data": {
      "text/plain": [
       "<matplotlib.figure.Figure at 0x7f4f2fd922d0>"
      ]
     },
     "metadata": {},
     "output_type": "display_data"
    },
    {
     "data": {
      "image/png": "[encoded data removed]",
      "text/plain": [
       "<matplotlib.figure.Figure at 0x7f4f596cd350>"
      ]
     },
     "metadata": {},
     "output_type": "display_data"
    }
   ],
   "source": [
    "plt.style.use('ggplot')\n",
    "plt.figure();\n",
    "table.plot(kind='bar')\n",
    "#plt.hist(x=range(1,31),y=[x for x in range(1,31)])\n",
    "plt.xlabel('annee')\n",
    "plt.ylabel('validations')\n",
    "\n",
    "# Tweak spacing to prevent clipping of ylabel\n",
    "plt.subplots_adjust(left=0.15)\n",
    "plt.legend([\"Tickets\",\"Navigo\"],bbox_to_anchor=(1.05, 1), loc=2, borderaxespad=0.)\n",
    "plt.show()"
   ]
  },
  {
   "cell_type": "code",
   "execution_count": null,
   "metadata": {
    "collapsed": true
   },
   "outputs": [],
   "source": []
  }
 ],
 "metadata": {
  "kernelspec": {
   "display_name": "Python 2",
   "language": "python",
   "name": "python2"
  },
  "language_info": {
   "codemirror_mode": {
    "name": "ipython",
    "version": 2
   },
   "file_extension": ".py",
   "mimetype": "text/x-python",
   "name": "python",
   "nbconvert_exporter": "python",
   "pygments_lexer": "ipython2",
   "version": "2.7.11"
  }
 },
 "nbformat": 4,
 "nbformat_minor": 0
}
